{
 "cells": [
  {
   "cell_type": "markdown",
   "metadata": {},
   "source": [
    "# Transmembrane Helix Prediction using Homology"
   ]
  },
  {
   "cell_type": "markdown",
   "metadata": {},
   "source": [
    "Rudra Mehta  \n",
    "BioE 190"
   ]
  },
  {
   "cell_type": "markdown",
   "metadata": {},
   "source": [
    "## Imports"
   ]
  },
  {
   "cell_type": "markdown",
   "metadata": {},
   "source": [
    "You may need to change the path append statement to point to where you have the Bio modules.  \n",
    "Or you might not even need that statement to get the imports to work."
   ]
  },
  {
   "cell_type": "code",
   "execution_count": 26,
   "metadata": {
    "collapsed": false
   },
   "outputs": [],
   "source": [
    "import os\n",
    "import sys\n",
    "sys.path.append('/usr/local/lib/python2.7/site-packages/')\n",
    "from sys import argv\n",
    "import numpy as np\n",
    "import Bio\n",
    "from Bio import SeqIO\n",
    "from Bio import AlignIO\n",
    "from Bio.Seq import Seq\n",
    "from Bio.SeqRecord import SeqRecord\n",
    "from Bio.Alphabet import IUPAC\n",
    "from Bio.Blast import NCBIXML\n",
    "from Bio.Blast.NCBIWWW import qblast\n",
    "from Bio.Align.Applications import MafftCommandline\n",
    "from Bio.Align import MultipleSeqAlignment"
   ]
  },
  {
   "cell_type": "markdown",
   "metadata": {
    "collapsed": true
   },
   "source": [
    "## Algorithm Parameters"
   ]
  },
  {
   "cell_type": "code",
   "execution_count": 1,
   "metadata": {
    "collapsed": true
   },
   "outputs": [],
   "source": [
    "E_VAL_THRESH = .05\n",
    "ALIGN_PERCENT_THRESH = .8\n",
    "DATABASE = \"swissprot\"\n",
    "CONSENSUS_THRESH = .5"
   ]
  },
  {
   "cell_type": "markdown",
   "metadata": {},
   "source": [
    "## Specify input"
   ]
  },
  {
   "cell_type": "code",
   "execution_count": 28,
   "metadata": {
    "collapsed": true
   },
   "outputs": [],
   "source": [
    "input_protein_name = \"LRR\""
   ]
  },
  {
   "cell_type": "markdown",
   "metadata": {},
   "source": [
    "## Create directory, if necessary"
   ]
  },
  {
   "cell_type": "code",
   "execution_count": 29,
   "metadata": {
    "collapsed": true
   },
   "outputs": [],
   "source": [
    "direc = input_protein_name + '/'\n",
    "if not os.path.exists(direc):\n",
    "    os.mkdir(direc)\n",
    "    os.rename(input_protein_name + \".fasta\", direc + input_protein_name + \".fasta\")"
   ]
  },
  {
   "cell_type": "code",
   "execution_count": 30,
   "metadata": {
    "collapsed": false
   },
   "outputs": [],
   "source": [
    "with open(direc + input_protein_name + \".fasta\", \"r\") as input_file:\n",
    "    input_fasta = SeqIO.read(input_file, format=\"fasta\")\n",
    "input_len = len(input_fasta)\n",
    "input_name = input_fasta.name.split(\"|\")[-1]"
   ]
  },
  {
   "cell_type": "markdown",
   "metadata": {},
   "source": [
    "Initializes all the file names"
   ]
  },
  {
   "cell_type": "code",
   "execution_count": 31,
   "metadata": {
    "collapsed": true
   },
   "outputs": [],
   "source": [
    "save_file_name = direc + \"BLAST_%s.xml\"%input_name\n",
    "recs_file = direc + \"FILTER_%s.fasta\"%input_name\n",
    "align_file = direc + \"ALIGNED_%s.fasta\"%input_name\n",
    "TMHMM_result_name = direc + \"TMHMM result.html\""
   ]
  },
  {
   "cell_type": "markdown",
   "metadata": {},
   "source": [
    "## Run BLAST"
   ]
  },
  {
   "cell_type": "code",
   "execution_count": 32,
   "metadata": {
    "collapsed": true
   },
   "outputs": [],
   "source": [
    "result_handle = qblast(\"blastp\", DATABASE, input_fasta.seq)\n",
    "with open(save_file_name, \"w\") as save_file:\n",
    "    save_file.write(result_handle.read())\n",
    "result_handle.close()"
   ]
  },
  {
   "cell_type": "markdown",
   "metadata": {},
   "source": [
    "## Parse BLAST results into a list, write list to file"
   ]
  },
  {
   "cell_type": "code",
   "execution_count": 33,
   "metadata": {
    "collapsed": false
   },
   "outputs": [],
   "source": [
    "with open(save_file_name) as result_handle:\n",
    "    blast_record = NCBIXML.read(result_handle)\n",
    "recs = []\n",
    "i = 0\n",
    "for alignment in blast_record.alignments:\n",
    "    for hsp in alignment.hsps:\n",
    "        if hsp.expect < E_VAL_THRESH and \\\n",
    "           hsp.align_length > ALIGN_PERCENT_THRESH*input_len:\n",
    "\n",
    "            filtered_seq = Seq(str(hsp.sbjct), IUPAC.protein)\n",
    "            filtered_id = alignment.title.split(\"|\")[3]\n",
    "            filtered_name = alignment.title\n",
    "            filtered_seqrec = SeqRecord(filtered_seq, id=filtered_id, name=filtered_name)\n",
    "            recs.append(filtered_seqrec)\n",
    "_ = SeqIO.write(recs, recs_file, \"fasta\")"
   ]
  },
  {
   "cell_type": "markdown",
   "metadata": {},
   "source": [
    "## Create MSA using MAFFT, save to file"
   ]
  },
  {
   "cell_type": "code",
   "execution_count": 34,
   "metadata": {
    "collapsed": true
   },
   "outputs": [],
   "source": [
    "mafft_cline = MafftCommandline(input=recs_file)\n",
    "stdout, stderr = mafft_cline()\n",
    "with open(align_file, \"w\") as handle:\n",
    "    handle.write(stdout)"
   ]
  },
  {
   "cell_type": "markdown",
   "metadata": {},
   "source": [
    "## Parse HTML from TMHMM website"
   ]
  },
  {
   "cell_type": "markdown",
   "metadata": {},
   "source": [
    "Until I can figure out how to run TMHMM locally, this is the best option: need to run TMHMM on the website, inputting the  `Aligned`  file with  `One line per protein`  as the output choice, and saving the result as an HTML page"
   ]
  },
  {
   "cell_type": "code",
   "execution_count": 21,
   "metadata": {
    "collapsed": false
   },
   "outputs": [],
   "source": [
    "TMHMM_results = {}\n",
    "with open(TMHMM_result_name) as TMHMM_results_file:\n",
    "    all_preds = TMHMM_results_file.read().split('\\n')[10:-4]\n",
    "for pred in all_preds:\n",
    "    pred = pred.split('\\t')\n",
    "    pred_id = pred[0]\n",
    "    pred_len = eval(pred[1][pred[1].index(\"=\")+1:])\n",
    "    pred_hel_num = eval(pred[4][pred[4].index(\"=\")+1:])\n",
    "    pred_topo = pred[5][pred[5].index(\"=\")+1:]\n",
    "    TMHMM_results[pred_id] = (pred_hel_num, pred_topo, pred_len)\n",
    "# print(TMHMM_results)"
   ]
  },
  {
   "cell_type": "markdown",
   "metadata": {},
   "source": [
    "## Transfer TMHMM data to sequence annotations"
   ]
  },
  {
   "cell_type": "code",
   "execution_count": 23,
   "metadata": {
    "collapsed": false
   },
   "outputs": [],
   "source": [
    "with open(align_file, \"r\") as a_file:\n",
    "    alignment = AlignIO.read(a_file, \"fasta\")\n",
    "\n",
    "annotations = []\n",
    "k=0\n",
    "for seq in alignment:\n",
    "    seq_TMHMM_result = TMHMM_results[seq.id][1]\n",
    "    seq_TMHMM_len = TMHMM_results[seq.id][2]\n",
    "    \n",
    "    # Set up initial annotation - no gaps\n",
    "    annotation = np.zeros(seq_TMHMM_len+1, dtype=np.int8)\n",
    "    slices = seq_TMHMM_result.replace(\"-\",\":\").replace(\"o\",\"] [\").replace(\"i\",\"] [\").split(\" \")[1:-1]\n",
    "    for s in slices:\n",
    "        format_str = \"annotation\" + s + \" = 1\"\n",
    "        exec(format_str)\n",
    "    annotation = list(annotation)[1:]\n",
    "    \n",
    "    # Add gaps as 0 (not TM)\n",
    "    for i,char in enumerate(seq):\n",
    "        if char == \"-\":\n",
    "            annotation.insert(i, 0)\n",
    "            \n",
    "    annotation_str = ''.join([str(s) for s in annotation])\n",
    "    seqrec = SeqRecord(Seq(annotation_str), id=seq.id, name=seq.name)\n",
    "    annotations.append(seqrec)\n",
    "    seq.letter_annotations[\"TM?\"] = annotation"
   ]
  },
  {
   "cell_type": "markdown",
   "metadata": {},
   "source": [
    "## Create consensus TM prediction using annotations matrix"
   ]
  },
  {
   "cell_type": "code",
   "execution_count": 24,
   "metadata": {
    "collapsed": false
   },
   "outputs": [
    {
     "name": "stdout",
     "output_type": "stream",
     "text": [
      "00000000000000000000000000000000000000000000000000000000000000000000000000000000000000000000000000000000000000000000000000000000000000000000000000000000000000000000000000000000000000000000000000000000000000000000000000000000000000000000000000000000000000000000000000000000000000000000000000000000000000000000000000000000000000000000000000000000000000000000000000000000000000000000000000000000000000000000000000\n"
     ]
    }
   ],
   "source": [
    "annotation_MSA = MultipleSeqAlignment(annotations)\n",
    "\n",
    "consensus = \"\"\n",
    "\n",
    "for j in range(annotation_MSA.get_alignment_length()):\n",
    "    col = annotation_MSA[:,j]\n",
    "    one_pct = col.count(\"1\")/float(len(col))\n",
    "    if one_pct > CONSENSUS_THRESH:\n",
    "        consensus += \"1\"\n",
    "    else:\n",
    "        consensus += \"0\"\n",
    "\n",
    "\n",
    "con_copy = consensus\n",
    "for i,char in list(enumerate(alignment[0]))[::-1]:\n",
    "        if char == \"-\":\n",
    "            consensus = consensus[:i] + consensus[(i+1):]\n",
    "print(consensus)"
   ]
  },
  {
   "cell_type": "markdown",
   "metadata": {},
   "source": [
    "## Print locations of transmembrane helices, if any"
   ]
  },
  {
   "cell_type": "code",
   "execution_count": 25,
   "metadata": {
    "collapsed": false
   },
   "outputs": [
    {
     "name": "stdout",
     "output_type": "stream",
     "text": [
      "No transmembrane helices found.\n"
     ]
    }
   ],
   "source": [
    "seen = 0\n",
    "count = 0\n",
    "result = \"Transmembrane helix positions (inclusive): \"\n",
    "for i,pos in enumerate(consensus):\n",
    "    if pos == \"0\":\n",
    "        if seen == 1:\n",
    "            result += \":\" + str(i) + \", \"\n",
    "            seen = 0\n",
    "    elif pos == \"1\":\n",
    "        if seen == 0:\n",
    "            result += str(i+1)\n",
    "            seen = 1\n",
    "if result == \"Transmembrane helix positions (inclusive): \":\n",
    "    result = \"No transmembrane helices found.\"\n",
    "else:\n",
    "    result = result[:-2] + \".\"\n",
    "print(result)"
   ]
  },
  {
   "cell_type": "code",
   "execution_count": null,
   "metadata": {
    "collapsed": true
   },
   "outputs": [],
   "source": []
  }
 ],
 "metadata": {
  "kernelspec": {
   "display_name": "Python 3",
   "language": "python",
   "name": "python3"
  },
  "language_info": {
   "codemirror_mode": {
    "name": "ipython",
    "version": 3
   },
   "file_extension": ".py",
   "mimetype": "text/x-python",
   "name": "python",
   "nbconvert_exporter": "python",
   "pygments_lexer": "ipython3",
   "version": "3.5.1"
  }
 },
 "nbformat": 4,
 "nbformat_minor": 0
}
