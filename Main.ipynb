{
 "cells": [
  {
   "cell_type": "code",
   "execution_count": 1,
   "metadata": {
    "collapsed": true
   },
   "outputs": [],
   "source": [
    "import Bio\n",
    "from Bio import SeqIO\n",
    "from Bio import AlignIO\n",
    "from Bio.Seq import Seq\n",
    "from Bio.SeqRecord import SeqRecord\n",
    "from Bio.Alphabet import IUPAC\n",
    "from Bio.Blast import NCBIXML\n",
    "from Bio.Blast.NCBIWWW import qblast\n",
    "from Bio.Align.Applications import MafftCommandline\n",
    "from Bio.Align import MultipleSeqAlignment"
   ]
  },
  {
   "cell_type": "code",
   "execution_count": 2,
   "metadata": {
    "collapsed": true
   },
   "outputs": [],
   "source": [
    "E_VAL_THRESH = .05\n",
    "ALIGN_PERCENT_THRESH = .8\n",
    "DATABASE = \"nr.61\"\n",
    "CONSENSUS_THRESH = .5\n",
    "INPUT_SEQUENCE = \"fasta.txt\"\n",
    "save_file_name = \"alignment.xml\"\n",
    "recs_file = \"records.fasta\""
   ]
  },
  {
   "cell_type": "code",
   "execution_count": 4,
   "metadata": {
    "collapsed": false
   },
   "outputs": [
    {
     "name": "stdout",
     "output_type": "stream",
     "text": [
      "Done\n"
     ]
    }
   ],
   "source": [
    "result_handle = qblast(\"blastp\", DATABASE, INPUT_SEQUENCE)\n",
    "with open(save_file_name, \"w\") as save_file:\n",
    "    save_file.write(result_handle.read())\n",
    "result_handle.close()\n",
    "print(\"Done\")"
   ]
  },
  {
   "cell_type": "code",
   "execution_count": null,
   "metadata": {
    "collapsed": false
   },
   "outputs": [],
   "source": [
    "with open(save_file_name) as result_handle:\n",
    "    blast_record = NCBIXML.read(result_handle)\n",
    "recs = []\n",
    "i = 0\n",
    "for alignment in blast_record.alignments:\n",
    "    for hsp in alignment.hsps:\n",
    "        if hsp.expect < E_VAL_THRESH and \\\n",
    "           hsp.align_length > ALIGN_PERCENT_THRESH*input_len:\n",
    "\n",
    "            filtered_seq = Seq(str(hsp.sbjct), IUPAC.protein)\n",
    "            filtered_id = alignment.title.split(\"|\")[3]\n",
    "            filtered_name = alignment.title\n",
    "            filtered_seqrec = SeqRecord(filtered_seq, id=filtered_id, name=filtered_name)\n",
    "            recs.append(filtered_seqrec)\n",
    "_ = SeqIO.write(recs, recs_file, \"fasta\")\n",
    "print(\"Done\")"
   ]
  },
  {
   "cell_type": "code",
   "execution_count": null,
   "metadata": {
    "collapsed": true
   },
   "outputs": [],
   "source": []
  }
 ],
 "metadata": {
  "kernelspec": {
   "display_name": "Python 3",
   "language": "python",
   "name": "python3"
  },
  "language_info": {
   "codemirror_mode": {
    "name": "ipython",
    "version": 3
   },
   "file_extension": ".py",
   "mimetype": "text/x-python",
   "name": "python",
   "nbconvert_exporter": "python",
   "pygments_lexer": "ipython3",
   "version": "3.5.1"
  }
 },
 "nbformat": 4,
 "nbformat_minor": 0
}
